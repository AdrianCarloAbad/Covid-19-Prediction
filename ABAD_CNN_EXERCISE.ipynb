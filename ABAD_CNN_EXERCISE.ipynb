{
 "cells": [
  {
   "cell_type": "code",
   "execution_count": 1,
   "metadata": {
    "id": "-hBsyvXhyXj_"
   },
   "outputs": [],
   "source": [
    "#Import libraries needed\n",
    "import matplotlib.pyplot as plt\n",
    "import tensorflow as tf\n",
    "import keras\n",
    "import numpy as np\n",
    "import cv2\n",
    "import os\n",
    "\n",
    "from keras.backend import categorical_crossentropy\n",
    "from tensorflow.keras.preprocessing import image\n"
   ]
  },
  {
   "cell_type": "code",
   "execution_count": 2,
   "metadata": {
    "colab": {
     "base_uri": "https://localhost:8080/"
    },
    "id": "amA_9w3AzMMR",
    "outputId": "1ecce7f6-f95f-4ab6-c126-cd4e31e1d30b"
   },
   "outputs": [
    {
     "name": "stdout",
     "output_type": "stream",
     "text": [
      "Found 249 images belonging to 3 classes.\n"
     ]
    }
   ],
   "source": [
    "from keras.preprocessing.image import ImageDataGenerator\n",
    "from keras.layers import *\n",
    "from keras.models import Sequential\n",
    "\n",
    "\n",
    "dataset_train = ImageDataGenerator(rescale = 1./255,shear_range = 0.2,zoom_range = 0.2,horizontal_flip = True)\n",
    "\n",
    "train_path = 'C:/Users/asus/Downloads/DATASET COVID 19/train'\n",
    "train_dataset = dataset_train.flow_from_directory(train_path, \n",
    "                                          target_size = (224, 224), \n",
    "                                          batch_size = 32, \n",
    "                                          class_mode = 'categorical')"
   ]
  },
  {
   "cell_type": "code",
   "execution_count": 3,
   "metadata": {
    "colab": {
     "base_uri": "https://localhost:8080/"
    },
    "id": "oiRb7unk4ZJl",
    "outputId": "e62e9d95-d29e-4b9b-ecaa-5824648bd989"
   },
   "outputs": [
    {
     "name": "stdout",
     "output_type": "stream",
     "text": [
      "Found 65 images belonging to 3 classes.\n"
     ]
    }
   ],
   "source": [
    "dataset_test = ImageDataGenerator(rescale=1./255)\n",
    "test_path = 'C:/Users/asus/Downloads/DATASET COVID 19/test'\n",
    "test_dataset = dataset_train.flow_from_directory(test_path, \n",
    "                                         target_size = (224, 224), \n",
    "                                         batch_size = 32, \n",
    "                                         class_mode = 'categorical')"
   ]
  },
  {
   "cell_type": "code",
   "execution_count": 4,
   "metadata": {
    "id": "dVQP21swKyFj"
   },
   "outputs": [
    {
     "name": "stdout",
     "output_type": "stream",
     "text": [
      "Model: \"sequential\"\n",
      "_________________________________________________________________\n",
      " Layer (type)                Output Shape              Param #   \n",
      "=================================================================\n",
      " conv2d (Conv2D)             (None, 222, 222, 32)      896       \n",
      "                                                                 \n",
      " conv2d_1 (Conv2D)           (None, 220, 220, 64)      18496     \n",
      "                                                                 \n",
      " max_pooling2d (MaxPooling2D  (None, 110, 110, 64)     0         \n",
      " )                                                               \n",
      "                                                                 \n",
      " dropout (Dropout)           (None, 110, 110, 64)      0         \n",
      "                                                                 \n",
      " conv2d_2 (Conv2D)           (None, 108, 108, 64)      36928     \n",
      "                                                                 \n",
      " max_pooling2d_1 (MaxPooling  (None, 54, 54, 64)       0         \n",
      " 2D)                                                             \n",
      "                                                                 \n",
      " dropout_1 (Dropout)         (None, 54, 54, 64)        0         \n",
      "                                                                 \n",
      " conv2d_3 (Conv2D)           (None, 52, 52, 128)       73856     \n",
      "                                                                 \n",
      " max_pooling2d_2 (MaxPooling  (None, 26, 26, 128)      0         \n",
      " 2D)                                                             \n",
      "                                                                 \n",
      " dropout_2 (Dropout)         (None, 26, 26, 128)       0         \n",
      "                                                                 \n",
      " flatten (Flatten)           (None, 86528)             0         \n",
      "                                                                 \n",
      " dense (Dense)               (None, 64)                5537856   \n",
      "                                                                 \n",
      " dropout_3 (Dropout)         (None, 64)                0         \n",
      "                                                                 \n",
      " dense_1 (Dense)             (None, 3)                 195       \n",
      "                                                                 \n",
      "=================================================================\n",
      "Total params: 5,668,227\n",
      "Trainable params: 5,668,227\n",
      "Non-trainable params: 0\n",
      "_________________________________________________________________\n"
     ]
    }
   ],
   "source": [
    "#modelling of data\n",
    "model = Sequential()\n",
    "model.add(Conv2D(32,\n",
    "                 kernel_size=(3,3),\n",
    "                 activation='relu',\n",
    "                 input_shape=(224,224,3)))\n",
    "model.add(Conv2D(64, (3,3), activation='relu'))\n",
    "model.add(MaxPooling2D(pool_size=(2,2)))\n",
    "model.add(Dropout(0.25))\n",
    "\n",
    "model.add(Conv2D(64, (3,3), activation='relu'))\n",
    "model.add(MaxPooling2D(pool_size=(2,2)))\n",
    "model.add(Dropout(0.25))\n",
    "\n",
    "model.add(Conv2D(128, (3,3), activation='relu'))\n",
    "model.add(MaxPooling2D(pool_size=(2,2)))\n",
    "model.add(Dropout(0.25))\n",
    "\n",
    "model.add(Flatten())\n",
    "model.add(Dense(64, activation='relu'))\n",
    "model.add(Dropout(0.5))\n",
    "model.add(Dense(3, activation='sigmoid'))\n",
    "model.compile(loss='categorical_crossentropy', optimizer='adam', metrics=['accuracy'])\n",
    "model.summary()"
   ]
  },
  {
   "cell_type": "code",
   "execution_count": 5,
   "metadata": {
    "colab": {
     "base_uri": "https://localhost:8080/"
    },
    "id": "yWNhXuxceb_a",
    "outputId": "86b2dc17-f38d-4fcf-d6f7-f6c9e0664580",
    "scrolled": true
   },
   "outputs": [
    {
     "name": "stderr",
     "output_type": "stream",
     "text": [
      "C:\\Users\\lborb\\AppData\\Local\\Temp\\ipykernel_12900\\2625774409.py:1: UserWarning: `Model.fit_generator` is deprecated and will be removed in a future version. Please use `Model.fit`, which supports generators.\n",
      "  history = model.fit_generator(train_dataset,steps_per_epoch=7,epochs = 5,validation_data = test_dataset,validation_steps=2)\n"
     ]
    },
    {
     "name": "stdout",
     "output_type": "stream",
     "text": [
      "Epoch 1/5\n",
      "7/7 [==============================] - 106s 16s/step - loss: 1.7723 - accuracy: 0.3871 - val_loss: 1.0954 - val_accuracy: 0.2969\n",
      "Epoch 2/5\n",
      "7/7 [==============================] - 81s 11s/step - loss: 1.0299 - accuracy: 0.5115 - val_loss: 1.0003 - val_accuracy: 0.5781\n",
      "Epoch 3/5\n",
      "7/7 [==============================] - 84s 12s/step - loss: 0.7796 - accuracy: 0.6518 - val_loss: 0.8566 - val_accuracy: 0.5781\n",
      "Epoch 4/5\n",
      "7/7 [==============================] - 98s 14s/step - loss: 0.6911 - accuracy: 0.7005 - val_loss: 0.7338 - val_accuracy: 0.6250\n",
      "Epoch 5/5\n",
      "7/7 [==============================] - 89s 13s/step - loss: 0.6080 - accuracy: 0.7465 - val_loss: 0.6619 - val_accuracy: 0.6719\n"
     ]
    }
   ],
   "source": [
    "#running of epoch\n",
    "history = model.fit_generator(train_dataset,steps_per_epoch=7,epochs = 5,validation_data = test_dataset,validation_steps=2)"
   ]
  },
  {
   "cell_type": "code",
   "execution_count": 6,
   "metadata": {
    "colab": {
     "base_uri": "https://localhost:8080/"
    },
    "id": "gqevIJCM0J7e",
    "outputId": "9d574c6c-1694-4864-dabe-72807a749ac3"
   },
   "outputs": [
    {
     "name": "stdout",
     "output_type": "stream",
     "text": [
      "8/8 [==============================] - 32s 4s/step - loss: 0.4856 - accuracy: 0.8313\n",
      "Test accuracy: 0.8313252925872803\n"
     ]
    }
   ],
   "source": [
    "#determining the accuracy\n",
    "accuracy_rate = model.evaluate(train_dataset)\n",
    "print('Test accuracy:', accuracy_rate[1])"
   ]
  },
  {
   "cell_type": "code",
   "execution_count": 7,
   "metadata": {
    "id": "uhIvIJVu0zD8"
   },
   "outputs": [],
   "source": [
    "path_dir = 'C:/Users/asus/Downloads/DATASET COVID 19'\n",
    "\n",
    "def loadImages(path, folder):\n",
    "    data_files = sorted([os.path.join(path, folder, file)\n",
    "                        for file in os.listdir(path + folder + '/')\n",
    "                        if (file.endswith('.jpg') or file.endswith('.jpeg'))])\n",
    "    return data_files\n",
    "\n",
    "v_data = loadImages(path_dir, 'validation')"
   ]
  },
  {
   "cell_type": "code",
   "execution_count": 9,
   "metadata": {
    "id": "uc8QKdjoDMkK"
   },
   "outputs": [],
   "source": [
    "g = v_data\n",
    "f = []\n",
    "images = []\n",
    "\n",
    "for x in g:\n",
    "    img = cv2.imread(x)\n",
    "    img = img[:, :, :3]\n",
    "    images.append(img)\n",
    "\n",
    "    width = 224\n",
    "    height = 224\n",
    "    dim = (width, height)\n",
    "\n",
    "    resized = cv2.resize(img, dim, interpolation=cv2.INTER_AREA)\n",
    "    f.append(resized)\n",
    "\n",
    "f = np.array(f)\n",
    "f = f/255"
   ]
  },
  {
   "cell_type": "code",
   "execution_count": 11,
   "metadata": {
    "colab": {
     "base_uri": "https://localhost:8080/"
    },
    "id": "GUfl58h1Dj46",
    "outputId": "74859c6d-f261-4650-a685-21771e7c7b5a"
   },
   "outputs": [
    {
     "name": "stdout",
     "output_type": "stream",
     "text": [
      "1/1 [==============================] - 1s 605ms/step\n",
      "[1 1 0 2 2 2 0 0 2 0]\n"
     ]
    }
   ],
   "source": [
    "prediction = model.predict(f)\n",
    "predictions = np.argmax(prediction, axis=1)\n",
    "print(predictions)\n"
   ]
  },
  {
   "cell_type": "code",
   "execution_count": null,
   "metadata": {},
   "outputs": [],
   "source": []
  }
 ],
 "metadata": {
  "colab": {
   "collapsed_sections": [],
   "provenance": [],
   "toc_visible": true
  },
  "kernelspec": {
   "display_name": "Python 3 (ipykernel)",
   "language": "python",
   "name": "python3"
  },
  "language_info": {
   "codemirror_mode": {
    "name": "ipython",
    "version": 3
   },
   "file_extension": ".py",
   "mimetype": "text/x-python",
   "name": "python",
   "nbconvert_exporter": "python",
   "pygments_lexer": "ipython3",
   "version": "3.9.12"
  }
 },
 "nbformat": 4,
 "nbformat_minor": 1
}
